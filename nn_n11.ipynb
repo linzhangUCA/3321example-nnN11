{
 "cells": [
  {
   "cell_type": "markdown",
   "metadata": {},
   "source": [
    "# Brain Tumor Classification with N11 Model"
   ]
  },
  {
   "cell_type": "markdown",
   "metadata": {},
   "source": [
    "## 1 Load Data\n",
    "### 1.1 Create an Annotation File\n",
    "The brain MRI images are organized as the follows:\n",
    "```\n",
    "./brain_tumor_dataset/yes/xxx.jpg\n",
    "./brain_tumor_dataset/yes/xxy.jpg\n",
    "./brain_tumor_dataset/yes/xxz.jpg\n",
    "\n",
    "./brain_tumor_dataset/no/123.jpg\n",
    "./brain_tumor_dataset/no/456.jpg\n",
    "./brain_tumor_dataset/no/789.jpg\n",
    "```\n",
    "To grab image information and store them in an comma-seperated values (CSV) file:\n",
    "\n",
    "Visit the data directory, grab all images' paths and corresponding categories.\n",
    "Save the paths and categories of images in an .csv file"
   ]
  },
  {
   "cell_type": "code",
   "execution_count": 5,
   "metadata": {},
   "outputs": [
    {
     "name": "stdout",
     "output_type": "stream",
     "text": [
      "There are 155 images with tumors, and 98 images without tumors in the dataset\n"
     ]
    }
   ],
   "source": [
    "import sys\n",
    "import os\n",
    "from glob import glob\n",
    "import pandas as pd\n",
    "\n",
    "# Locate train and test directories\n",
    "root_dir = \"./brain_tumor_dataset\"  # locate dataset directory from this repo in the whole system\n",
    "yes_dir = os.path.join(root_dir, \"yes\")\n",
    "no_dir = os.path.join(root_dir, \"no\")\n",
    "categories = ['yes', 'no']\n",
    "\n",
    "# Glob training files\n",
    "yes_files = glob(os.path.join(yes_dir, \"*.*\"))\n",
    "no_files = glob(os.path.join(no_dir, \"*.*\"))\n",
    "print(f\"There are {len(yes_files)} images with tumors, and {len(no_files)} images without tumors in the dataset\")\n",
    "combined_files = yes_files + no_files\n",
    "labels = ['yes'] * len(yes_files) + ['no'] * len(no_files)\n",
    "data_dict = {'path': combined_files, 'label': labels}\n",
    "df = pd.DataFrame(data_dict)\n",
    "df.to_csv('annotation_data.csv', header=False, index=False)\n",
    "\n",
    "# # Glob test files\n",
    "# test_cat_files = glob(os.path.join(test_dir, categories[0], \"*.jpg\"))\n",
    "# test_dog_files = glob(os.path.join(test_dir, categories[1], \"*.jpg\"))\n",
    "# print(f\"There are {len(test_cat_files)} cat images, and {len(test_dog_files)} dog images in the test dataset\")\n",
    "# test_image_files = test_cat_files + test_dog_files\n",
    "# test_labels = ['cat'] * len(test_cat_files) + ['dog'] * len(test_dog_files)\n",
    "# test_data_dict = {'path': test_image_files, 'label': test_labels}\n",
    "# df_test = pd.DataFrame(test_data_dict)\n",
    "# # print(df_test)\n",
    "# df_test.to_csv('annotation_test.csv', header=False, index=False)"
   ]
  },
  {
   "cell_type": "code",
   "execution_count": null,
   "metadata": {},
   "outputs": [],
   "source": []
  }
 ],
 "metadata": {
  "kernelspec": {
   "display_name": "3321",
   "language": "python",
   "name": "python3"
  },
  "language_info": {
   "codemirror_mode": {
    "name": "ipython",
    "version": 3
   },
   "file_extension": ".py",
   "mimetype": "text/x-python",
   "name": "python",
   "nbconvert_exporter": "python",
   "pygments_lexer": "ipython3",
   "version": "3.12.7"
  }
 },
 "nbformat": 4,
 "nbformat_minor": 2
}
